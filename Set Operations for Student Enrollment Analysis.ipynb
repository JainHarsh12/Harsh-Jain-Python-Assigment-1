{
  "nbformat": 4,
  "nbformat_minor": 0,
  "metadata": {
    "colab": {
      "provenance": []
    },
    "kernelspec": {
      "name": "python3",
      "display_name": "Python 3"
    },
    "language_info": {
      "name": "python"
    }
  },
  "cells": [
    {
      "cell_type": "code",
      "execution_count": 3,
      "metadata": {
        "colab": {
          "base_uri": "https://localhost:8080/"
        },
        "id": "1HI-5BLuv1zd",
        "outputId": "fcf1a0b9-5260-4c1f-c970-4da1cf83199d"
      },
      "outputs": [
        {
          "output_type": "stream",
          "name": "stdout",
          "text": [
            "1. Total students in at least one course: 8\n",
            "2. Total students in both courses: 3\n",
            "3. Students only in Python course: {1, 2, 3}\n",
            "4. Are all Machine Learning students in the Python course? False\n"
          ]
        }
      ],
      "source": [
        "# Define the sets\n",
        "A = {1, 2, 3, 4, 5, 6}  # Students enrolled in Python programming\n",
        "B = {4, 5, 6, 7, 8}      # Students enrolled in Machine Learning\n",
        "\n",
        "# 1. Total students in at least one course\n",
        "total_students = A.union(B)\n",
        "print(\"1. Total students in at least one course:\", len(total_students))\n",
        "\n",
        "# 2. Total students in both courses\n",
        "common_students = A.intersection(B)\n",
        "print(\"2. Total students in both courses:\", len(common_students))\n",
        "\n",
        "# 3. Students only in Python course\n",
        "only_python = A.difference(B)\n",
        "print(\"3. Students only in Python course:\", only_python)\n",
        "\n",
        "# 4. Are all Machine Learning students in the Python course?\n",
        "is_subset = B.issubset(A)\n",
        "print(\"4. Are all Machine Learning students in the Python course?\", is_subset)\n"
      ]
    },
    {
      "cell_type": "code",
      "source": [],
      "metadata": {
        "id": "mcR4Bmmjw2Ps"
      },
      "execution_count": null,
      "outputs": []
    }
  ]
}