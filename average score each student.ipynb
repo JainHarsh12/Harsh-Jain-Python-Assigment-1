{
  "nbformat": 4,
  "nbformat_minor": 0,
  "metadata": {
    "colab": {
      "provenance": []
    },
    "kernelspec": {
      "name": "python3",
      "display_name": "Python 3"
    },
    "language_info": {
      "name": "python"
    }
  },
  "cells": [
    {
      "cell_type": "code",
      "execution_count": null,
      "metadata": {
        "id": "ep2AuYVbTkaE"
      },
      "outputs": [],
      "source": [
        "#You have a dictionary where keys are student names, and values are lists of their scores in different subjects. Write a Python program to calculate the average score for each student and return a new dictionary with student names as keys and their average scores as values. Additionally, sort the new dictionary by the average scores in descending order."
      ]
    },
    {
      "cell_type": "code",
      "source": [
        "# Input dictionary\n",
        "students_scores = {\n",
        "    \"Alice\": [85, 90, 78],\n",
        "    \"Bob\": [72, 88, 91],\n",
        "    \"Charlie\": [89, 76, 95],\n",
        "    \"David\": [92, 88, 84]\n",
        "}\n",
        "\n",
        "# Calculate average scores\n",
        "average_scores = {student: round(sum(scores) / len(scores), 2) for student, scores in students_scores.items()}\n",
        "\n",
        "# Sort the dictionary by average scores in descending order\n",
        "sorted_scores = dict(sorted(average_scores.items(), key=lambda item: item[1], reverse=True))\n",
        "\n",
        "# Output\n",
        "print(sorted_scores)\n"
      ],
      "metadata": {
        "colab": {
          "base_uri": "https://localhost:8080/"
        },
        "id": "6qhaH1-gTvFV",
        "outputId": "45668ca8-7f44-43f5-a8d6-0165bd3e90ec"
      },
      "execution_count": 1,
      "outputs": [
        {
          "output_type": "stream",
          "name": "stdout",
          "text": [
            "{'David': 88.0, 'Charlie': 86.67, 'Alice': 84.33, 'Bob': 83.67}\n"
          ]
        }
      ]
    }
  ]
}