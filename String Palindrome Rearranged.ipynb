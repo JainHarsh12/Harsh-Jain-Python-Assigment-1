{
  "nbformat": 4,
  "nbformat_minor": 0,
  "metadata": {
    "colab": {
      "provenance": []
    },
    "kernelspec": {
      "name": "python3",
      "display_name": "Python 3"
    },
    "language_info": {
      "name": "python"
    }
  },
  "cells": [
    {
      "cell_type": "code",
      "execution_count": null,
      "metadata": {
        "id": "0_p4xfetG0h_"
      },
      "outputs": [],
      "source": [
        "#Implement a function in Python that determines if a given string can be rearranged to form a palindrome. Explain your approach."
      ]
    },
    {
      "cell_type": "code",
      "source": [
        "from collections import Counter\n",
        "\n",
        "def can_form_palindrome(s):\n",
        "    # Count the frequency of each character\n",
        "    char_count = Counter(s)\n",
        "    # Count how many characters have an odd frequency\n",
        "    odd_count = sum(1 for count in char_count.values() if count % 2 != 0)\n",
        "    # If more than one character has an odd count, return False\n",
        "    return odd_count <= 1\n",
        "\n",
        "# Test cases\n",
        "print(can_form_palindrome(\"civic\"))    # True (already a palindrome)\n",
        "print(can_form_palindrome(\"ivicc\"))    # True (can be rearranged to \"civic\")\n",
        "print(can_form_palindrome(\"hello\"))    # False (cannot form a palindrome)\n",
        "print(can_form_palindrome(\"aabbh\"))    # False (cannot form a palindrome)\n",
        "print(can_form_palindrome(\"racecar\"))  # True (already a palindrome)\n"
      ],
      "metadata": {
        "colab": {
          "base_uri": "https://localhost:8080/"
        },
        "id": "ItYURzv3G274",
        "outputId": "939a504c-2ac2-4ec7-8ec0-452c256367e0"
      },
      "execution_count": 1,
      "outputs": [
        {
          "output_type": "stream",
          "name": "stdout",
          "text": [
            "True\n",
            "True\n",
            "False\n",
            "True\n",
            "True\n"
          ]
        }
      ]
    },
    {
      "cell_type": "code",
      "source": [],
      "metadata": {
        "id": "wW4Kf6e9G5Ay"
      },
      "execution_count": null,
      "outputs": []
    }
  ]
}