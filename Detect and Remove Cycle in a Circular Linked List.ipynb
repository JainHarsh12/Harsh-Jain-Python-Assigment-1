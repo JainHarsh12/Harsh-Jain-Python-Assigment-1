{
  "nbformat": 4,
  "nbformat_minor": 0,
  "metadata": {
    "colab": {
      "provenance": []
    },
    "kernelspec": {
      "name": "python3",
      "display_name": "Python 3"
    },
    "language_info": {
      "name": "python"
    }
  },
  "cells": [
    {
      "cell_type": "code",
      "execution_count": 1,
      "metadata": {
        "colab": {
          "base_uri": "https://localhost:8080/"
        },
        "id": "b8TxgrCA6eJ1",
        "outputId": "5b7a82cd-502c-435a-8b03-56714d867e10"
      },
      "outputs": [
        {
          "output_type": "stream",
          "name": "stdout",
          "text": [
            "Cycle was at node: 30\n",
            "Modified Linked List:\n",
            "10 -> 20 -> 30 -> 40 -> 50 -> None\n"
          ]
        }
      ],
      "source": [
        "class ListNode:\n",
        "    def __init__(self, val=0):\n",
        "        self.val = val\n",
        "        self.next = None\n",
        "\n",
        "def detect_and_remove_cycle(head):\n",
        "    slow = fast = head\n",
        "\n",
        "    # Detect cycle using Floyd's cycle detection\n",
        "    while fast and fast.next:\n",
        "        slow = slow.next\n",
        "        fast = fast.next.next\n",
        "        if slow == fast:  # Cycle detected\n",
        "            break\n",
        "    else:\n",
        "        return head  # No cycle found\n",
        "\n",
        "    # Find the start of the cycle\n",
        "    slow = head\n",
        "    prev = None\n",
        "    while slow != fast:\n",
        "        prev = fast  # Track the node before cycle start\n",
        "        slow = slow.next\n",
        "        fast = fast.next\n",
        "\n",
        "    # Remove cycle\n",
        "    if prev:\n",
        "        prev.next = None\n",
        "\n",
        "    print(f\"Cycle was at node: {slow.val}\")\n",
        "    return head\n",
        "\n",
        "# Helper function to create a circular linked list\n",
        "def create_circular_linked_list(values, cycle_index):\n",
        "    head = ListNode(values[0])\n",
        "    curr = head\n",
        "    nodes = [head]\n",
        "\n",
        "    for val in values[1:]:\n",
        "        curr.next = ListNode(val)\n",
        "        curr = curr.next\n",
        "        nodes.append(curr)\n",
        "\n",
        "    # Create cycle at cycle_index\n",
        "    if cycle_index is not None:\n",
        "        curr.next = nodes[cycle_index]\n",
        "\n",
        "    return head\n",
        "\n",
        "# Helper function to print linked list\n",
        "def print_linked_list(head):\n",
        "    while head:\n",
        "        print(head.val, end=\" -> \")\n",
        "        head = head.next\n",
        "    print(\"None\")\n",
        "\n",
        "# Create circular linked list with cycle at index 2\n",
        "values = [10, 20, 30, 40, 50]\n",
        "cycle_index = 2  # 50 points back to 30\n",
        "head = create_circular_linked_list(values, cycle_index)\n",
        "\n",
        "# Detect and remove cycle\n",
        "new_head = detect_and_remove_cycle(head)\n",
        "\n",
        "# Print the modified linked list\n",
        "print(\"Modified Linked List:\")\n",
        "print_linked_list(new_head)\n"
      ]
    }
  ]
}