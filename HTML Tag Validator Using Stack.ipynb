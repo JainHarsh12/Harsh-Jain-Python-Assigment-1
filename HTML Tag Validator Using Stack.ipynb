{
  "nbformat": 4,
  "nbformat_minor": 0,
  "metadata": {
    "colab": {
      "provenance": []
    },
    "kernelspec": {
      "name": "python3",
      "display_name": "Python 3"
    },
    "language_info": {
      "name": "python"
    }
  },
  "cells": [
    {
      "cell_type": "code",
      "execution_count": 1,
      "metadata": {
        "colab": {
          "base_uri": "https://localhost:8080/"
        },
        "id": "cNsm4WOa5PF0",
        "outputId": "7c8185d2-bad7-4f4d-bab1-e376a7263ef3"
      },
      "outputs": [
        {
          "output_type": "stream",
          "name": "stdout",
          "text": [
            "True\n",
            "False\n",
            "True\n",
            "False\n"
          ]
        }
      ],
      "source": [
        "def is_valid_html(tags):\n",
        "    stack = []\n",
        "\n",
        "    for tag in tags:\n",
        "        if not tag.startswith(\"</\"):  # Opening tag\n",
        "            stack.append(tag)\n",
        "        else:  # Closing tag\n",
        "            if not stack:\n",
        "                return False  # Extra closing tag found\n",
        "            last_open = stack.pop()\n",
        "            if last_open[1:] != tag[2:]:  # Check if the tags match\n",
        "                return False\n",
        "\n",
        "    return len(stack) == 0  # Stack should be empty if all tags are closed properly\n",
        "\n",
        "# Test Cases\n",
        "tags1 = [\"<html>\", \"<body>\", \"<p>\", \"</p>\", \"</body>\", \"</html>\"]\n",
        "tags2 = [\"<html>\", \"<body>\", \"<p>\", \"</body>\", \"</p>\", \"</html>\"]\n",
        "tags3 = [\"<div>\", \"<span>\", \"</span>\", \"<p>\", \"</p>\", \"</div>\"]\n",
        "tags4 = [\"<div>\", \"<span>\", \"</p>\", \"</span>\", \"</div>\"]\n",
        "\n",
        "print(is_valid_html(tags1))  # True\n",
        "print(is_valid_html(tags2))  # False\n",
        "print(is_valid_html(tags3))  # True\n",
        "print(is_valid_html(tags4))  # False\n"
      ]
    }
  ]
}