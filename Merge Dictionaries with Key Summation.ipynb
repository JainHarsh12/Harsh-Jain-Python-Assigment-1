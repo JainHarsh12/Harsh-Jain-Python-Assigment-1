{
  "nbformat": 4,
  "nbformat_minor": 0,
  "metadata": {
    "colab": {
      "provenance": []
    },
    "kernelspec": {
      "name": "python3",
      "display_name": "Python 3"
    },
    "language_info": {
      "name": "python"
    }
  },
  "cells": [
    {
      "cell_type": "code",
      "execution_count": 1,
      "metadata": {
        "colab": {
          "base_uri": "https://localhost:8080/"
        },
        "id": "f_CWZt7obceT",
        "outputId": "0b21f313-26ea-4d49-d1e2-823411f2b03e"
      },
      "outputs": [
        {
          "output_type": "stream",
          "name": "stdout",
          "text": [
            "{'d': 25, 'c': 45, 'a': 10, 'b': 25}\n"
          ]
        }
      ],
      "source": [
        "# Example dictionaries\n",
        "dict1 = {'a': 10, 'b': 20, 'c': 30}\n",
        "dict2 = {'b': 5, 'c': 15, 'd': 25}\n",
        "\n",
        "# Merging with summed values for conflicting keys\n",
        "merged_dict = {key: dict1.get(key, 0) + dict2.get(key, 0) for key in set(dict1) | set(dict2)}\n",
        "\n",
        "print(merged_dict)\n"
      ]
    }
  ]
}