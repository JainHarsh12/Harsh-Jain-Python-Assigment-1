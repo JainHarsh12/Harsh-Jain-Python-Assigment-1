{
  "nbformat": 4,
  "nbformat_minor": 0,
  "metadata": {
    "colab": {
      "provenance": []
    },
    "kernelspec": {
      "name": "python3",
      "display_name": "Python 3"
    },
    "language_info": {
      "name": "python"
    }
  },
  "cells": [
    {
      "cell_type": "code",
      "execution_count": 1,
      "metadata": {
        "colab": {
          "base_uri": "https://localhost:8080/"
        },
        "id": "11nqhd-31Vos",
        "outputId": "4e230dd4-7ea6-4660-fe77-951d4867b627"
      },
      "outputs": [
        {
          "output_type": "stream",
          "name": "stdout",
          "text": [
            "{'name': 'Yogurt', 'quantity': 8, 'expiry_date': '2024-11-01', 'days_left': -8, 'status': 'discard'}\n",
            "{'name': 'Eggs', 'quantity': 30, 'expiry_date': '2024-11-10', 'days_left': 1, 'status': 'urgent'}\n",
            "{'name': 'Milk', 'quantity': 10, 'expiry_date': '2024-11-15', 'days_left': 6, 'status': 'ok'}\n",
            "{'name': 'Cheese', 'quantity': 5, 'expiry_date': '2024-11-20', 'days_left': 11, 'status': 'ok'}\n"
          ]
        }
      ],
      "source": [
        "from datetime import datetime\n",
        "\n",
        "def inventory_expiry_tracker(inventory):\n",
        "    current_date = datetime.now()\n",
        "\n",
        "    # Process each item in the inventory\n",
        "    for item in inventory:\n",
        "        # Parse the expiry date and calculate days left\n",
        "        expiry_date = datetime.strptime(item[\"expiry_date\"], \"%Y-%m-%d\")\n",
        "        days_left = (expiry_date - current_date).days\n",
        "        item[\"days_left\"] = days_left\n",
        "\n",
        "        # Determine the status\n",
        "        if days_left < 0:\n",
        "            item[\"status\"] = \"discard\"\n",
        "        elif days_left <= 5:\n",
        "            item[\"status\"] = \"urgent\"\n",
        "        else:\n",
        "            item[\"status\"] = \"ok\"\n",
        "\n",
        "    # Sort items by days_left\n",
        "    inventory.sort(key=lambda x: x[\"days_left\"])\n",
        "\n",
        "    return inventory\n",
        "\n",
        "# Test example\n",
        "inventory = [\n",
        "    {\"name\": \"Milk\", \"quantity\": 10, \"expiry_date\": \"2024-11-15\"},\n",
        "    {\"name\": \"Eggs\", \"quantity\": 30, \"expiry_date\": \"2024-11-10\"},\n",
        "    {\"name\": \"Cheese\", \"quantity\": 5, \"expiry_date\": \"2024-11-20\"},\n",
        "    {\"name\": \"Yogurt\", \"quantity\": 8, \"expiry_date\": \"2024-11-01\"},\n",
        "]\n",
        "\n",
        "report = inventory_expiry_tracker(inventory)\n",
        "for item in report:\n",
        "    print(item)\n"
      ]
    }
  ]
}