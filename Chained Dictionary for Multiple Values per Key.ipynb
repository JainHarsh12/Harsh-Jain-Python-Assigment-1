{
  "nbformat": 4,
  "nbformat_minor": 0,
  "metadata": {
    "colab": {
      "provenance": []
    },
    "kernelspec": {
      "name": "python3",
      "display_name": "Python 3"
    },
    "language_info": {
      "name": "python"
    }
  },
  "cells": [
    {
      "cell_type": "code",
      "execution_count": 1,
      "metadata": {
        "colab": {
          "base_uri": "https://localhost:8080/"
        },
        "id": "SbyiVe7QVPD7",
        "outputId": "8ffc0de4-29d8-45d9-b3ef-06583b4997ea"
      },
      "outputs": [
        {
          "output_type": "stream",
          "name": "stdout",
          "text": [
            "[1, 2, 4]\n",
            "[3]\n",
            "[]\n"
          ]
        }
      ],
      "source": [
        "class Node:\n",
        "    def __init__(self, key, value):\n",
        "        self.key = key\n",
        "        self.value = value\n",
        "        self.next = None\n",
        "\n",
        "class MyDictionary:\n",
        "    def __init__(self):\n",
        "        self.dict = {}  # Key: first node in linked list\n",
        "\n",
        "    def insert(self, key, value):\n",
        "        if key in self.dict:\n",
        "            current = self.dict[key]\n",
        "            while current.next:\n",
        "                current = current.next\n",
        "            current.next = Node(key, value)\n",
        "        else:\n",
        "            self.dict[key] = Node(key, value)\n",
        "\n",
        "    def get_values(self, key):\n",
        "      if key not in self.dict:\n",
        "        return []\n",
        "      values = []\n",
        "      current = self.dict[key]\n",
        "      while current:\n",
        "        values.append(current.value)\n",
        "        current = current.next\n",
        "      return values\n",
        "\n",
        "# Example usage\n",
        "my_dict = MyDictionary()\n",
        "my_dict.insert(\"apple\", 1)\n",
        "my_dict.insert(\"apple\", 2)  # Inserting another value for the same key\n",
        "my_dict.insert(\"banana\", 3)\n",
        "my_dict.insert(\"apple\",4)\n",
        "\n",
        "print(my_dict.get_values(\"apple\"))  # Output: [1, 2, 4]\n",
        "print(my_dict.get_values(\"banana\")) # Output: [3]\n",
        "print(my_dict.get_values(\"grape\")) # Output: []\n"
      ]
    }
  ]
}