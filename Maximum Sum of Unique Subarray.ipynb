{
  "nbformat": 4,
  "nbformat_minor": 0,
  "metadata": {
    "colab": {
      "provenance": []
    },
    "kernelspec": {
      "name": "python3",
      "display_name": "Python 3"
    },
    "language_info": {
      "name": "python"
    }
  },
  "cells": [
    {
      "cell_type": "code",
      "execution_count": 1,
      "metadata": {
        "id": "ROOY-cL_8HD0",
        "outputId": "c0e61cb4-dd4a-48f3-fbd4-4d92088e55d1",
        "colab": {
          "base_uri": "https://localhost:8080/"
        }
      },
      "outputs": [
        {
          "output_type": "stream",
          "name": "stdout",
          "text": [
            "21\n",
            "11\n"
          ]
        }
      ],
      "source": [
        "def maxUniqueSubarray(nums):\n",
        "    # Initialize a dictionary to store the last occurrence index of each element\n",
        "    last_seen = {}\n",
        "    start = 0  # Left pointer of the sliding window\n",
        "    max_sum = 0  # Variable to store the maximum sum of unique subarray\n",
        "\n",
        "    current_sum = 0  # Variable to store the current sum of the window\n",
        "\n",
        "    for end in range(len(nums)):\n",
        "        # If the element has been seen before and is within the current window, adjust the start pointer\n",
        "        if nums[end] in last_seen and last_seen[nums[end]] >= start:\n",
        "            start = last_seen[nums[end]] + 1\n",
        "            # Recalculate the current sum by subtracting the elements that are no longer in the window\n",
        "            current_sum = sum(nums[start:end+1])\n",
        "\n",
        "        # Add the current element to the current sum\n",
        "        current_sum += nums[end]\n",
        "\n",
        "        # Update the maximum sum if needed\n",
        "        max_sum = max(max_sum, current_sum)\n",
        "\n",
        "        # Update the last seen index of the current element\n",
        "        last_seen[nums[end]] = end\n",
        "\n",
        "    return max_sum\n",
        "\n",
        "# Example usage\n",
        "nums1 = [4, 2, 4, 5, 6]\n",
        "print(maxUniqueSubarray(nums1))  # Output: 17\n",
        "\n",
        "nums2 = [1, 2, 1, 3, 4, 3]\n",
        "print(maxUniqueSubarray(nums2))  # Output: 10\n"
      ]
    }
  ]
}