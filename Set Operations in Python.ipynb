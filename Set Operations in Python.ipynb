{
  "nbformat": 4,
  "nbformat_minor": 0,
  "metadata": {
    "colab": {
      "provenance": []
    },
    "kernelspec": {
      "name": "python3",
      "display_name": "Python 3"
    },
    "language_info": {
      "name": "python"
    }
  },
  "cells": [
    {
      "cell_type": "code",
      "execution_count": 1,
      "metadata": {
        "colab": {
          "base_uri": "https://localhost:8080/"
        },
        "id": "lJMvyWy-PR-a",
        "outputId": "bf9f67c9-6731-4160-c482-32e986d263db"
      },
      "outputs": [
        {
          "output_type": "stream",
          "name": "stdout",
          "text": [
            "Union: {2, 4, 6, 8, 10, 12, 14}\n",
            "Intersection: {8, 10, 6}\n",
            "Difference (A - B): {2, 4}\n",
            "Symmetric Difference: {2, 4, 12, 14}\n"
          ]
        }
      ],
      "source": [
        "# Define the sets\n",
        "A = {2, 4, 6, 8, 10}\n",
        "B = {6, 8, 10, 12, 14}\n",
        "\n",
        "# Union\n",
        "union_result = A.union(B)\n",
        "print(\"Union:\", union_result)\n",
        "\n",
        "# Intersection\n",
        "intersection_result = A.intersection(B)\n",
        "print(\"Intersection:\", intersection_result)\n",
        "\n",
        "# Difference (A - B)\n",
        "difference_result = A.difference(B)\n",
        "print(\"Difference (A - B):\", difference_result)\n",
        "\n",
        "# Symmetric Difference\n",
        "symmetric_difference_result = A.symmetric_difference(B)\n",
        "print(\"Symmetric Difference:\", symmetric_difference_result)\n"
      ]
    }
  ]
}