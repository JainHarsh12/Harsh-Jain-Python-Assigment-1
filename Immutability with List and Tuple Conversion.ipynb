{
  "nbformat": 4,
  "nbformat_minor": 0,
  "metadata": {
    "colab": {
      "provenance": []
    },
    "kernelspec": {
      "name": "python3",
      "display_name": "Python 3"
    },
    "language_info": {
      "name": "python"
    }
  },
  "cells": [
    {
      "cell_type": "code",
      "execution_count": null,
      "metadata": {
        "id": "JxSuBgChpShY"
      },
      "outputs": [],
      "source": [
        "#In Python, list and tuple are both sequence types but differ in mutability: lists are mutable while tuples are immutable. Describe a scenario where using a tuple would be more beneficial than a list. Write a Python function that accepts either a list or a tuple and a flag indicating if the collection should be immutable. If the flag indicates immutability but a list is passed, the function should return an immutable version of the list as a tuple. If the flag indicates mutability but a tuple is passed, the function should convert it to a list. Demonstrate the function with examples."
      ]
    },
    {
      "cell_type": "code",
      "source": [
        "def ensure_immutable(collection, immutable_flag=True):\n",
        "    \"\"\"\n",
        "    Ensure that the collection's type matches the immutability flag.\n",
        "\n",
        "    Args:\n",
        "        collection (list or tuple): The collection to check.\n",
        "        immutable_flag (bool): If True, collection should be immutable (tuple).\n",
        "                               If False, collection should be mutable (list).\n",
        "\n",
        "    Returns:\n",
        "        list or tuple: Returns the converted collection if type mismatches the flag.\n",
        "    \"\"\"\n",
        "    # Check if collection matches the immutability requirement\n",
        "    if immutable_flag and isinstance(collection, list):\n",
        "        return tuple(collection)\n",
        "    elif not immutable_flag and isinstance(collection, tuple):\n",
        "        return list(collection)\n",
        "    else:\n",
        "        return collection  # No conversion needed\n",
        "\n",
        "# Examples\n",
        "mutable_list = [1, 2, 3]\n",
        "immutable_tuple = (4, 5, 6)\n",
        "\n",
        "# Convert list to tuple if immutability is required\n",
        "result_immutable = ensure_immutable(mutable_list, immutable_flag=True)\n",
        "print(\"Immutable version:\", result_immutable, type(result_immutable))\n",
        "\n",
        "# Convert tuple to list if mutability is required\n",
        "result_mutable = ensure_immutable(immutable_tuple, immutable_flag=False)\n",
        "print(\"Mutable version:\", result_mutable, type(result_mutable))\n",
        "\n",
        "# If the flag matches, no conversion is done\n",
        "unchanged_result = ensure_immutable(mutable_list, immutable_flag=False)\n",
        "print(\"Unchanged:\", unchanged_result, type(unchanged_result))\n"
      ],
      "metadata": {
        "colab": {
          "base_uri": "https://localhost:8080/"
        },
        "id": "LSYn8He3pXax",
        "outputId": "d633f0fd-f1df-45ee-ae2b-13cd3ae30451"
      },
      "execution_count": 1,
      "outputs": [
        {
          "output_type": "stream",
          "name": "stdout",
          "text": [
            "Immutable version: (1, 2, 3) <class 'tuple'>\n",
            "Mutable version: [4, 5, 6] <class 'list'>\n",
            "Unchanged: [1, 2, 3] <class 'list'>\n"
          ]
        }
      ]
    },
    {
      "cell_type": "code",
      "source": [],
      "metadata": {
        "id": "y7ttkYQTpZpP"
      },
      "execution_count": null,
      "outputs": []
    }
  ]
}