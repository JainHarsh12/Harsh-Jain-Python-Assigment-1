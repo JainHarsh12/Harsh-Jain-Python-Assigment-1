{
  "nbformat": 4,
  "nbformat_minor": 0,
  "metadata": {
    "colab": {
      "provenance": []
    },
    "kernelspec": {
      "name": "python3",
      "display_name": "Python 3"
    },
    "language_info": {
      "name": "python"
    }
  },
  "cells": [
    {
      "cell_type": "code",
      "execution_count": null,
      "metadata": {
        "id": "N9heXLELWvPe"
      },
      "outputs": [],
      "source": [
        "#How can you create a Python function that takes a list of strings\n",
        "#and returns a dictionary where each string is a key and its value is the count of vowels in that string, while ignoring case?"
      ]
    },
    {
      "cell_type": "code",
      "source": [
        "def count_vowels(strings):\n",
        "    vowels = \"aeiou\"\n",
        "    result = {}\n",
        "\n",
        "    for string in strings:\n",
        "        count = sum(1 for char in string.lower() if char in vowels)\n",
        "        result[string] = count\n",
        "\n",
        "    return result\n",
        "\n",
        "# Test the function and print the output\n",
        "strings = [\"Hello\", \"Python\", \"Code\"]\n",
        "output = count_vowels(strings)\n",
        "print(output)\n",
        "\n"
      ],
      "metadata": {
        "colab": {
          "base_uri": "https://localhost:8080/"
        },
        "id": "oi_pKDerXALt",
        "outputId": "01a94068-554c-4d3d-da24-f92dde1f7545"
      },
      "execution_count": 5,
      "outputs": [
        {
          "output_type": "stream",
          "name": "stdout",
          "text": [
            "{'Hello': 2, 'Python': 1, 'Code': 2}\n"
          ]
        }
      ]
    },
    {
      "cell_type": "code",
      "source": [],
      "metadata": {
        "id": "BBcjsploXIhz"
      },
      "execution_count": null,
      "outputs": []
    }
  ]
}