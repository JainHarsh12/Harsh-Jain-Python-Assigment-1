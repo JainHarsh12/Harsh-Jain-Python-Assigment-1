{
  "nbformat": 4,
  "nbformat_minor": 0,
  "metadata": {
    "colab": {
      "provenance": []
    },
    "kernelspec": {
      "name": "python3",
      "display_name": "Python 3"
    },
    "language_info": {
      "name": "python"
    }
  },
  "cells": [
    {
      "cell_type": "code",
      "execution_count": 1,
      "metadata": {
        "colab": {
          "base_uri": "https://localhost:8080/"
        },
        "id": "PXucXVWdrhAE",
        "outputId": "e76ab10a-d2be-4c55-9b89-db9a09eabb44"
      },
      "outputs": [
        {
          "output_type": "stream",
          "name": "stdout",
          "text": [
            "Original Linked List:\n",
            "3 -> 5 -> 3 -> 2 -> 5 -> 7 -> None\n",
            "Linked List after removing duplicates:\n",
            "3 -> 5 -> 2 -> 7 -> None\n"
          ]
        }
      ],
      "source": [
        "class Node:\n",
        "    def __init__(self, data):\n",
        "        self.data = data\n",
        "        self.next = None\n",
        "\n",
        "class LinkedList:\n",
        "    def __init__(self):\n",
        "        self.head = None\n",
        "\n",
        "    def append(self, data):\n",
        "        if not self.head:\n",
        "            self.head = Node(data)\n",
        "            return\n",
        "        temp = self.head\n",
        "        while temp.next:\n",
        "            temp = temp.next\n",
        "        temp.next = Node(data)\n",
        "\n",
        "    def remove_duplicates(self):\n",
        "        seen = set()\n",
        "        current = self.head\n",
        "        prev = None\n",
        "\n",
        "        while current:\n",
        "            if current.data in seen:\n",
        "                prev.next = current.next  # Remove duplicate\n",
        "            else:\n",
        "                seen.add(current.data)\n",
        "                prev = current\n",
        "            current = current.next\n",
        "\n",
        "    def print_list(self):\n",
        "        temp = self.head\n",
        "        while temp:\n",
        "            print(temp.data, end=\" -> \")\n",
        "            temp = temp.next\n",
        "        print(\"None\")\n",
        "\n",
        "# Example usage:\n",
        "ll = LinkedList()\n",
        "ll.append(3)\n",
        "ll.append(5)\n",
        "ll.append(3)\n",
        "ll.append(2)\n",
        "ll.append(5)\n",
        "ll.append(7)\n",
        "\n",
        "print(\"Original Linked List:\")\n",
        "ll.print_list()\n",
        "\n",
        "ll.remove_duplicates()\n",
        "\n",
        "print(\"Linked List after removing duplicates:\")\n",
        "ll.print_list()\n"
      ]
    }
  ]
}