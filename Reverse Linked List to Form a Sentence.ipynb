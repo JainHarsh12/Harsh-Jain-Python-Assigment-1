{
  "nbformat": 4,
  "nbformat_minor": 0,
  "metadata": {
    "colab": {
      "provenance": []
    },
    "kernelspec": {
      "name": "python3",
      "display_name": "Python 3"
    },
    "language_info": {
      "name": "python"
    }
  },
  "cells": [
    {
      "cell_type": "code",
      "execution_count": 1,
      "metadata": {
        "colab": {
          "base_uri": "https://localhost:8080/"
        },
        "id": "FgTIYFiAjFKL",
        "outputId": "cb19c021-734c-42aa-ebe6-a40f80e72a80"
      },
      "outputs": [
        {
          "output_type": "stream",
          "name": "stdout",
          "text": [
            "Welcome to the world.\n"
          ]
        }
      ],
      "source": [
        "class ListNode:\n",
        "    def __init__(self, val=\"\"):\n",
        "        self.val = val\n",
        "        self.next = None\n",
        "\n",
        "def reconstruct_sentence(head):\n",
        "    words = []\n",
        "\n",
        "    # Traverse linked list and collect words\n",
        "    current = head\n",
        "    while current:\n",
        "        words.append(current.val)\n",
        "        current = current.next\n",
        "\n",
        "    # Reverse the list to restore sentence order\n",
        "    words.reverse()\n",
        "\n",
        "    # Capitalize the first word\n",
        "    if words:\n",
        "        words[0] = words[0].capitalize()\n",
        "\n",
        "    # Join words and add a period\n",
        "    sentence = \" \".join(words) + \".\"\n",
        "\n",
        "    return sentence\n",
        "\n",
        "# Example Usage\n",
        "head = ListNode(\"world\")\n",
        "head.next = ListNode(\"the\")\n",
        "head.next.next = ListNode(\"to\")\n",
        "head.next.next.next = ListNode(\"Welcome\")\n",
        "\n",
        "# Reconstruct sentence\n",
        "print(reconstruct_sentence(head))  # Output: \"Welcome to the world.\"\n"
      ]
    }
  ]
}