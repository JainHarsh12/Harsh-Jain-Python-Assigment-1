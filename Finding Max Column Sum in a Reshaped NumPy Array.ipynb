{
  "nbformat": 4,
  "nbformat_minor": 0,
  "metadata": {
    "colab": {
      "provenance": []
    },
    "kernelspec": {
      "name": "python3",
      "display_name": "Python 3"
    },
    "language_info": {
      "name": "python"
    }
  },
  "cells": [
    {
      "cell_type": "code",
      "execution_count": 1,
      "metadata": {
        "id": "QswEeZCrmLY_",
        "outputId": "a8140284-3700-4904-9264-9ad641bc8ba0",
        "colab": {
          "base_uri": "https://localhost:8080/"
        }
      },
      "outputs": [
        {
          "output_type": "stream",
          "name": "stdout",
          "text": [
            "Original Array:\n",
            "[19  9 50  3 36 24  7 21  7 13 12 29 20 28 22 48 26 40 11 45]\n",
            "\n",
            "Reshaped Array (5 rows):\n",
            "[[19  9 50  3]\n",
            " [36 24  7 21]\n",
            " [ 7 13 12 29]\n",
            " [20 28 22 48]\n",
            " [26 40 11 45]]\n",
            "\n",
            "Column with Maximum Sum: 3\n",
            "Maximum Column Sum: 146\n"
          ]
        }
      ],
      "source": [
        "import numpy as np\n",
        "\n",
        "def analyze_array(arr):\n",
        "    try:\n",
        "        # Step 1: Reshape the array to a 2D array with 5 rows\n",
        "        reshaped_array = arr.reshape(5, -1)\n",
        "\n",
        "        # Step 2: Calculate the sum of each column\n",
        "        column_sums = reshaped_array.sum(axis=0)\n",
        "\n",
        "        # Step 3: Find the index of the column with the maximum sum\n",
        "        max_col_index = np.argmax(column_sums)\n",
        "\n",
        "        # Step 4: Get the maximum column sum\n",
        "        max_col_sum = column_sums[max_col_index]\n",
        "\n",
        "        return reshaped_array, max_col_index, max_col_sum\n",
        "    except ValueError:\n",
        "        return \"Array cannot be reshaped into 5 rows.\"\n",
        "\n",
        "# Example Usage\n",
        "arr = np.random.randint(1, 51, size=20)  # Generating a random 1D array with 20 elements\n",
        "reshaped_array, max_col_index, max_col_sum = analyze_array(arr)\n",
        "\n",
        "print(\"Original Array:\")\n",
        "print(arr)\n",
        "print(\"\\nReshaped Array (5 rows):\")\n",
        "print(reshaped_array)\n",
        "print(f\"\\nColumn with Maximum Sum: {max_col_index}\")\n",
        "print(f\"Maximum Column Sum: {max_col_sum}\")\n"
      ]
    }
  ]
}