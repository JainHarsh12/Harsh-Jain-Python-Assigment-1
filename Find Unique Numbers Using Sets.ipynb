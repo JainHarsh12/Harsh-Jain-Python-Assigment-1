{
  "nbformat": 4,
  "nbformat_minor": 0,
  "metadata": {
    "colab": {
      "provenance": []
    },
    "kernelspec": {
      "name": "python3",
      "display_name": "Python 3"
    },
    "language_info": {
      "name": "python"
    }
  },
  "cells": [
    {
      "cell_type": "code",
      "execution_count": 1,
      "metadata": {
        "colab": {
          "base_uri": "https://localhost:8080/"
        },
        "id": "tHZKTAfML0rr",
        "outputId": "482bf587-1c4e-4f87-a02c-aaf0ddab1d72"
      },
      "outputs": [
        {
          "output_type": "stream",
          "name": "stdout",
          "text": [
            "Unique numbers: {1, 2, 3, 4, 5}\n"
          ]
        }
      ],
      "source": [
        "# Input list of numbers\n",
        "numbers = [1, 2, 2, 3, 4, 4, 5]\n",
        "\n",
        "# Use a set to find unique numbers\n",
        "unique_numbers = set(numbers)\n",
        "\n",
        "# Display the unique numbers\n",
        "print(\"Unique numbers:\", unique_numbers)\n"
      ]
    }
  ]
}