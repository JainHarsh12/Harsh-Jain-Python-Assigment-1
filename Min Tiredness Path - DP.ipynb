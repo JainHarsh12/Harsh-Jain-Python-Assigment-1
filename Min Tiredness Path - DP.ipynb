{
  "nbformat": 4,
  "nbformat_minor": 0,
  "metadata": {
    "colab": {
      "provenance": []
    },
    "kernelspec": {
      "name": "python3",
      "display_name": "Python 3"
    },
    "language_info": {
      "name": "python"
    }
  },
  "cells": [
    {
      "cell_type": "code",
      "execution_count": 1,
      "metadata": {
        "colab": {
          "base_uri": "https://localhost:8080/"
        },
        "id": "0w8sKifmHIhW",
        "outputId": "98479eb4-d8a1-4e11-c851-6e301627b416"
      },
      "outputs": [
        {
          "output_type": "stream",
          "name": "stdout",
          "text": [
            "3\n"
          ]
        }
      ],
      "source": [
        "def min_tiredness(grid):\n",
        "    import sys\n",
        "    n, m = len(grid), len(grid[0])\n",
        "\n",
        "    # DP table to store the minimum tiredness at each cell\n",
        "    dp = [[sys.maxsize] * m for _ in range(n)]\n",
        "    dp[0][0] = 0  # Starting point\n",
        "\n",
        "    # Fill DP table\n",
        "    for i in range(n):\n",
        "        for j in range(m):\n",
        "            if i > 0:  # Coming from the top\n",
        "                tiredness = max(0, grid[i-1][j] - grid[i][j])\n",
        "                dp[i][j] = min(dp[i][j], dp[i-1][j] + tiredness)\n",
        "            if j > 0:  # Coming from the left\n",
        "                tiredness = max(0, grid[i][j-1] - grid[i][j])\n",
        "                dp[i][j] = min(dp[i][j], dp[i][j-1] + tiredness)\n",
        "\n",
        "    return dp[n-1][m-1]\n",
        "\n",
        "# Example Input\n",
        "grid = [\n",
        "    [5, 3, 2],\n",
        "    [4, 6, 1],\n",
        "    [3, 2, 8]\n",
        "]\n",
        "\n",
        "# Output the minimum tiredness\n",
        "print(min_tiredness(grid))  # Output: 3\n"
      ]
    }
  ]
}