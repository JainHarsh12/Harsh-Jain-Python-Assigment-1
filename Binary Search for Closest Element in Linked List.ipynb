{
  "nbformat": 4,
  "nbformat_minor": 0,
  "metadata": {
    "colab": {
      "provenance": []
    },
    "kernelspec": {
      "name": "python3",
      "display_name": "Python 3"
    },
    "language_info": {
      "name": "python"
    }
  },
  "cells": [
    {
      "cell_type": "code",
      "execution_count": 2,
      "metadata": {
        "colab": {
          "base_uri": "https://localhost:8080/"
        },
        "id": "WH_7Db3raY_k",
        "outputId": "401c1962-ec9d-4aa3-d4f4-0a29d3c07abf"
      },
      "outputs": [
        {
          "output_type": "stream",
          "name": "stdout",
          "text": [
            "Closest Element to 10: 12\n"
          ]
        }
      ],
      "source": [
        "class Node:\n",
        "    def __init__(self, data):\n",
        "        self.data = data\n",
        "        self.next = None\n",
        "\n",
        "class LinkedList:\n",
        "    def __init__(self):\n",
        "        self.head = None\n",
        "\n",
        "    # Function to append an element to the linked list\n",
        "    def append(self, data):\n",
        "        new_node = Node(data)\n",
        "        if not self.head:\n",
        "            self.head = new_node\n",
        "        else:\n",
        "            current = self.head\n",
        "            while current.next:\n",
        "                current = current.next\n",
        "            current.next = new_node\n",
        "\n",
        "    # Function to get the length of the linked list\n",
        "    def get_length(self):\n",
        "        length = 0\n",
        "        current = self.head\n",
        "        while current:\n",
        "            length += 1\n",
        "            current = current.next\n",
        "        return length\n",
        "\n",
        "    # Function to get the node at a specific index\n",
        "    def get_node_at_index(self, index):\n",
        "        current = self.head\n",
        "        for _ in range(index):\n",
        "            if current:\n",
        "                current = current.next\n",
        "        return current\n",
        "\n",
        "    # Binary search for closest element to the target\n",
        "    def binary_search_closest(self, target):\n",
        "        start = 0\n",
        "        end = self.get_length() - 1\n",
        "        closest = None\n",
        "        closest_diff = float('inf')\n",
        "\n",
        "        while start <= end:\n",
        "            mid = (start + end) // 2\n",
        "            mid_node = self.get_node_at_index(mid)\n",
        "\n",
        "            # Update closest if the current node is closer to the target\n",
        "            if mid_node:\n",
        "                diff = abs(mid_node.data - target)\n",
        "                if diff < closest_diff:\n",
        "                    closest = mid_node.data\n",
        "                    closest_diff = diff\n",
        "\n",
        "                # Move start or end based on the target value\n",
        "                if mid_node.data < target:\n",
        "                    start = mid + 1\n",
        "                else:\n",
        "                    end = mid - 1\n",
        "            else:\n",
        "                break\n",
        "\n",
        "        return closest\n",
        "\n",
        "# Example Usage\n",
        "if __name__ == \"__main__\":\n",
        "    ll = LinkedList()\n",
        "    for value in [1, 3, 5, 8, 12, 20]:\n",
        "        ll.append(value)\n",
        "\n",
        "    target = 10\n",
        "    closest_element = ll.binary_search_closest(target)\n",
        "    print(f\"Closest Element to {target}: {closest_element}\")\n",
        "\n"
      ]
    },
    {
      "cell_type": "code",
      "source": [],
      "metadata": {
        "id": "rjs1KHQMabTn"
      },
      "execution_count": null,
      "outputs": []
    }
  ]
}