{
  "nbformat": 4,
  "nbformat_minor": 0,
  "metadata": {
    "colab": {
      "provenance": []
    },
    "kernelspec": {
      "name": "python3",
      "display_name": "Python 3"
    },
    "language_info": {
      "name": "python"
    }
  },
  "cells": [
    {
      "cell_type": "code",
      "execution_count": 1,
      "metadata": {
        "id": "VIPgZmwXEkYf",
        "outputId": "48e039ae-56f4-454f-e6ee-d8563a63f542",
        "colab": {
          "base_uri": "https://localhost:8080/"
        }
      },
      "outputs": [
        {
          "output_type": "stream",
          "name": "stdout",
          "text": [
            "{'P001': 90.0, 'P002': 225.0, 'P003': 162.0, 'P004': 45.0}\n"
          ]
        }
      ],
      "source": [
        "def apply_discount(products):\n",
        "    return {product_id: price * 0.9 for product_id, price in products.items()}\n",
        "\n",
        "# Example usage\n",
        "products = {\n",
        "    \"P001\": 100.0,\n",
        "    \"P002\": 250.0,\n",
        "    \"P003\": 180.0,\n",
        "    \"P004\": 50.0\n",
        "}\n",
        "discounted_prices = apply_discount(products)\n",
        "print(discounted_prices)\n"
      ]
    }
  ]
}