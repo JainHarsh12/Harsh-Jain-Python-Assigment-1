{
  "nbformat": 4,
  "nbformat_minor": 0,
  "metadata": {
    "colab": {
      "provenance": []
    },
    "kernelspec": {
      "name": "python3",
      "display_name": "Python 3"
    },
    "language_info": {
      "name": "python"
    }
  },
  "cells": [
    {
      "cell_type": "code",
      "execution_count": 1,
      "metadata": {
        "colab": {
          "base_uri": "https://localhost:8080/"
        },
        "id": "urhWcRaGAnNs",
        "outputId": "b4f09b0c-9fa3-4ec7-98b5-aec93e4dc528"
      },
      "outputs": [
        {
          "output_type": "stream",
          "name": "stdout",
          "text": [
            "15\n"
          ]
        }
      ],
      "source": [
        "def max_sum_non_adjacent(nums):\n",
        "    if not nums:\n",
        "        return 0\n",
        "    if len(nums) == 1:\n",
        "        return nums[0]\n",
        "\n",
        "    # Initialize two variables to store the maximum sum up to the current index.\n",
        "    prev_max = 0  # max sum including previous non-adjacent numbers\n",
        "    curr_max = 0  # max sum including the current number\n",
        "\n",
        "    for num in nums:\n",
        "        # If we pick the current number, we add it to the previous max sum (non-adjacent)\n",
        "        new_max = max(curr_max, prev_max + num)\n",
        "        prev_max = curr_max\n",
        "        curr_max = new_max\n",
        "\n",
        "    return curr_max\n",
        "\n",
        "# Example usage:\n",
        "nums = [3, 2, 5, 10, 7]\n",
        "print(max_sum_non_adjacent(nums))  # Output should be 15 (3 + 10 + 7)\n"
      ]
    }
  ]
}