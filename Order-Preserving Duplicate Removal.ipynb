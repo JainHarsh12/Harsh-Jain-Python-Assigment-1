{
  "nbformat": 4,
  "nbformat_minor": 0,
  "metadata": {
    "colab": {
      "provenance": []
    },
    "kernelspec": {
      "name": "python3",
      "display_name": "Python 3"
    },
    "language_info": {
      "name": "python"
    }
  },
  "cells": [
    {
      "cell_type": "code",
      "execution_count": 1,
      "metadata": {
        "colab": {
          "base_uri": "https://localhost:8080/"
        },
        "id": "q9t_vQIXeXCO",
        "outputId": "4a200a63-ce4b-4a3b-bb62-3bdf4b11de3d"
      },
      "outputs": [
        {
          "output_type": "stream",
          "name": "stdout",
          "text": [
            "Original List: [4, 1, 3, 4, 2, 1, 3, 5]\n",
            "List with Duplicates Removed: [4, 1, 3, 2, 5]\n"
          ]
        }
      ],
      "source": [
        "# Example list with duplicates\n",
        "my_list = [4, 1, 3, 4, 2, 1, 3, 5]\n",
        "\n",
        "# Remove duplicates while maintaining order\n",
        "unique_list = []\n",
        "seen = set()\n",
        "\n",
        "for item in my_list:\n",
        "    if item not in seen:\n",
        "        unique_list.append(item)\n",
        "        seen.add(item)\n",
        "\n",
        "print(\"Original List:\", my_list)\n",
        "print(\"List with Duplicates Removed:\", unique_list)\n"
      ]
    }
  ]
}