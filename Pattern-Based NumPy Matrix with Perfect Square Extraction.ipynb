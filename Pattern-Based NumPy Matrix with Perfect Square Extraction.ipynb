{
  "nbformat": 4,
  "nbformat_minor": 0,
  "metadata": {
    "colab": {
      "provenance": []
    },
    "kernelspec": {
      "name": "python3",
      "display_name": "Python 3"
    },
    "language_info": {
      "name": "python"
    }
  },
  "cells": [
    {
      "cell_type": "code",
      "execution_count": 1,
      "metadata": {
        "colab": {
          "base_uri": "https://localhost:8080/"
        },
        "id": "X_cXDY17p4Fr",
        "outputId": "d96b872a-cd95-4fde-c342-0a1b423990d7"
      },
      "outputs": [
        {
          "output_type": "stream",
          "name": "stdout",
          "text": [
            "Generated Array:\n",
            "[[ 0  1  4  9 16]\n",
            " [ 1  2  5 10 17]\n",
            " [ 4  5  8 13 20]\n",
            " [ 9 10 13 18 25]\n",
            " [16 17 20 25 32]]\n"
          ]
        }
      ],
      "source": [
        "import numpy as np\n",
        "\n",
        "# Create indices for i and j\n",
        "i = np.arange(5).reshape(-1, 1)  # Column vector\n",
        "j = np.arange(5).reshape(1, -1)  # Row vector\n",
        "\n",
        "# Compute A[i, j] = i^2 + j^2\n",
        "A = i**2 + j**2\n",
        "\n",
        "print(\"Generated Array:\")\n",
        "print(A)\n"
      ]
    }
  ]
}