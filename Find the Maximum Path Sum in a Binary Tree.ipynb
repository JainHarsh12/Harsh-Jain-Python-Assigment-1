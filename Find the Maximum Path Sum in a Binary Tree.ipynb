{
  "nbformat": 4,
  "nbformat_minor": 0,
  "metadata": {
    "colab": {
      "provenance": []
    },
    "kernelspec": {
      "name": "python3",
      "display_name": "Python 3"
    },
    "language_info": {
      "name": "python"
    }
  },
  "cells": [
    {
      "cell_type": "code",
      "execution_count": 1,
      "metadata": {
        "colab": {
          "base_uri": "https://localhost:8080/"
        },
        "id": "1zcrZt9C4_Lj",
        "outputId": "25e7045c-165f-4e99-f3f2-328f86e60563"
      },
      "outputs": [
        {
          "output_type": "stream",
          "name": "stdout",
          "text": [
            "Largest Path Sum: 42\n"
          ]
        }
      ],
      "source": [
        "class TreeNode:\n",
        "    def __init__(self, val=0, left=None, right=None):\n",
        "        self.val = val\n",
        "        self.left = left\n",
        "        self.right = right\n",
        "\n",
        "def find_max_path_sum(root):\n",
        "    # Helper function to calculate the maximum path sum\n",
        "    def max_gain(node):\n",
        "        nonlocal max_sum\n",
        "        if not node:\n",
        "            return 0\n",
        "\n",
        "        # Calculate the maximum path sum for left and right subtrees\n",
        "        left_gain = max(max_gain(node.left), 0)  # Ignore negative paths\n",
        "        right_gain = max(max_gain(node.right), 0)\n",
        "\n",
        "        # Path sum passing through the current node\n",
        "        current_path_sum = node.val + left_gain + right_gain\n",
        "\n",
        "        # Update the global maximum sum\n",
        "        max_sum = max(max_sum, current_path_sum)\n",
        "\n",
        "        # Return the maximum gain from the current node\n",
        "        return node.val + max(left_gain, right_gain)\n",
        "\n",
        "    max_sum = float('-inf')  # Initialize global maximum\n",
        "    max_gain(root)  # Start the recursion\n",
        "    return max_sum\n",
        "\n",
        "# Example Usage\n",
        "root = TreeNode(10)\n",
        "root.left = TreeNode(2)\n",
        "root.right = TreeNode(10)\n",
        "root.left.left = TreeNode(20)\n",
        "root.left.right = TreeNode(1)\n",
        "root.right.right = TreeNode(-25)\n",
        "root.right.right.left = TreeNode(3)\n",
        "root.right.right.right = TreeNode(4)\n",
        "\n",
        "print(\"Largest Path Sum:\", find_max_path_sum(root))\n"
      ]
    }
  ]
}