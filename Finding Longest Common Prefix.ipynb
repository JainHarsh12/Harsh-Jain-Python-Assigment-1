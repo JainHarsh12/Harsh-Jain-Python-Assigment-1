{
  "nbformat": 4,
  "nbformat_minor": 0,
  "metadata": {
    "colab": {
      "provenance": []
    },
    "kernelspec": {
      "name": "python3",
      "display_name": "Python 3"
    },
    "language_info": {
      "name": "python"
    }
  },
  "cells": [
    {
      "cell_type": "code",
      "source": [
        "from typing import List\n",
        "\n",
        "def longest_common_prefix(lst: List[str]) -> str:\n",
        "    if not lst:\n",
        "        return \"\"\n",
        "\n",
        "    # Start with the first string as the initial prefix\n",
        "    prefix = lst[0]\n",
        "\n",
        "    # Compare the prefix with each string in the list\n",
        "    for string in lst[1:]:\n",
        "        # Adjust prefix until it matches the beginning of the string\n",
        "        while not string.startswith(prefix):\n",
        "            prefix = prefix[:-1]\n",
        "            if not prefix:\n",
        "                return \"\"\n",
        "\n",
        "    return prefix\n",
        "\n",
        "# Test the function\n",
        "lst = [\"flower\", \"flow\", \"flight\"]\n",
        "print(\"Longest common prefix:\", longest_common_prefix(lst))\n"
      ],
      "metadata": {
        "colab": {
          "base_uri": "https://localhost:8080/"
        },
        "id": "kgxracClMVJN",
        "outputId": "86158eb8-4597-460a-f309-06efeca3e840"
      },
      "execution_count": 4,
      "outputs": [
        {
          "output_type": "stream",
          "name": "stdout",
          "text": [
            "Longest common prefix: fl\n"
          ]
        }
      ]
    },
    {
      "cell_type": "code",
      "source": [],
      "metadata": {
        "id": "_918iSrcMg7Y"
      },
      "execution_count": null,
      "outputs": []
    }
  ]
}