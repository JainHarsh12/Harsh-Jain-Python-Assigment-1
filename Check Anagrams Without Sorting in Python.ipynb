{
  "nbformat": 4,
  "nbformat_minor": 0,
  "metadata": {
    "colab": {
      "provenance": []
    },
    "kernelspec": {
      "name": "python3",
      "display_name": "Python 3"
    },
    "language_info": {
      "name": "python"
    }
  },
  "cells": [
    {
      "cell_type": "code",
      "execution_count": 1,
      "metadata": {
        "colab": {
          "base_uri": "https://localhost:8080/"
        },
        "id": "tQCL6xZOyR-m",
        "outputId": "1696b055-34a7-4824-fe0c-b1e496a56e4f"
      },
      "outputs": [
        {
          "output_type": "stream",
          "name": "stdout",
          "text": [
            "'listen' and 'silent' are anagrams.\n"
          ]
        }
      ],
      "source": [
        "def are_anagrams(str1, str2):\n",
        "    # If lengths are different, they can't be anagrams\n",
        "    if len(str1) != len(str2):\n",
        "        return False\n",
        "\n",
        "    # Create dictionaries to count character occurrences\n",
        "    char_count1 = {}\n",
        "    char_count2 = {}\n",
        "\n",
        "    # Count characters in the first string\n",
        "    for char in str1:\n",
        "        char_count1[char] = char_count1.get(char, 0) + 1\n",
        "\n",
        "    # Count characters in the second string\n",
        "    for char in str2:\n",
        "        char_count2[char] = char_count2.get(char, 0) + 1\n",
        "\n",
        "    # Compare the dictionaries\n",
        "    return char_count1 == char_count2\n",
        "\n",
        "# Example usage\n",
        "str1 = \"listen\"\n",
        "str2 = \"silent\"\n",
        "if are_anagrams(str1, str2):\n",
        "    print(f\"'{str1}' and '{str2}' are anagrams.\")\n",
        "else:\n",
        "    print(f\"'{str1}' and '{str2}' are not anagrams.\")\n"
      ]
    }
  ]
}