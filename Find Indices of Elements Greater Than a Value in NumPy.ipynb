{
  "nbformat": 4,
  "nbformat_minor": 0,
  "metadata": {
    "colab": {
      "provenance": []
    },
    "kernelspec": {
      "name": "python3",
      "display_name": "Python 3"
    },
    "language_info": {
      "name": "python"
    }
  },
  "cells": [
    {
      "cell_type": "code",
      "execution_count": 1,
      "metadata": {
        "colab": {
          "base_uri": "https://localhost:8080/"
        },
        "id": "jRvvGabAyE0e",
        "outputId": "58c41390-bece-4ed8-f892-5033c46002cc"
      },
      "outputs": [
        {
          "output_type": "stream",
          "name": "stdout",
          "text": [
            "Indices of elements greater than 10: (array([0, 1, 2]), array([1, 0, 1]))\n",
            "Values greater than 10: [12 15 20]\n"
          ]
        }
      ],
      "source": [
        "import numpy as np\n",
        "\n",
        "# Example 2D array\n",
        "array = np.array([[5, 12, 7],\n",
        "                  [15, 8, 10],\n",
        "                  [9, 20, 6]])\n",
        "\n",
        "# Find indices of elements greater than 10\n",
        "indices = np.where(array > 10)\n",
        "\n",
        "# Display the result\n",
        "print(\"Indices of elements greater than 10:\", indices)\n",
        "print(\"Values greater than 10:\", array[indices])\n"
      ]
    }
  ]
}