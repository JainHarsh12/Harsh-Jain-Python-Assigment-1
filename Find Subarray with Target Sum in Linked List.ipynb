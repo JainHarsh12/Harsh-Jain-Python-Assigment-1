{
  "nbformat": 4,
  "nbformat_minor": 0,
  "metadata": {
    "colab": {
      "provenance": []
    },
    "kernelspec": {
      "name": "python3",
      "display_name": "Python 3"
    },
    "language_info": {
      "name": "python"
    }
  },
  "cells": [
    {
      "cell_type": "code",
      "execution_count": 1,
      "metadata": {
        "colab": {
          "base_uri": "https://localhost:8080/"
        },
        "id": "jS4RULK2Fn2y",
        "outputId": "0d5a4db5-a28e-45ee-c417-4232b652e807"
      },
      "outputs": [
        {
          "output_type": "stream",
          "name": "stdout",
          "text": [
            "Subarray found: Start node value 3, end node value 6\n"
          ]
        }
      ],
      "source": [
        "class ListNode:\n",
        "    def __init__(self, val=0, next=None):\n",
        "        self.val = val\n",
        "        self.next = next\n",
        "\n",
        "def find_subarray_sum(head, target):\n",
        "    current = head\n",
        "    while current:\n",
        "        # Attempt to find the target sum starting at the current node\n",
        "        sum_value = 0\n",
        "        end = current\n",
        "        while end:\n",
        "            sum_value += end.val\n",
        "            if sum_value == target:\n",
        "                return current, end\n",
        "            end = end.next\n",
        "        current = current.next\n",
        "    return None\n",
        "\n",
        "# Create a sample linked list: 2 -> 3 -> -5 -> 6 -> 1\n",
        "head = ListNode(2, ListNode(3, ListNode(-5, ListNode(6, ListNode(1)))))\n",
        "\n",
        "# Find a subarray with target sum 4\n",
        "start, end = find_subarray_sum(head, 4)\n",
        "if start and end:\n",
        "    print(f\"Subarray found: Start node value {start.val}, end node value {end.val}\")\n",
        "else:\n",
        "    print(\"No subarray with the target sum found.\")\n"
      ]
    }
  ]
}